{
  "nbformat": 4,
  "nbformat_minor": 0,
  "metadata": {
    "colab": {
      "provenance": [],
      "authorship_tag": "ABX9TyMeYtHY5oqzfg0rqNKDz1J7"
    },
    "kernelspec": {
      "name": "python3",
      "display_name": "Python 3"
    },
    "language_info": {
      "name": "python"
    }
  },
  "cells": [
    {
      "cell_type": "markdown",
      "source": [],
      "metadata": {
        "id": "-FfmLOaK_yLn"
      }
    },
    {
      "cell_type": "markdown",
      "source": [
        "# Numpy : Number Based Operations\n",
        "# Tensorflow : Widely used for ML Model"
      ],
      "metadata": {
        "id": "d9ZprZSC-S1A"
      }
    },
    {
      "cell_type": "code",
      "execution_count": null,
      "metadata": {
        "id": "m0F2Ro1M-ps8"
      },
      "outputs": [],
      "source": [
        "import numpy as np\n",
        "import tensorflow as tf\n",
        "from tensorflow.keras import layers, models, datasets\n",
        "import matplotlib.pyplot as plt"
      ]
    },
    {
      "cell_type": "code",
      "source": [
        "\n",
        "(train_images, train_labels), (test_images, test_labels) = datasets.cifar10.load_data()\n",
        "train_images, test_images = train_images / 255.0, test_images / 255.0"
      ],
      "metadata": {
        "id": "8asof-gI-xsX"
      },
      "execution_count": null,
      "outputs": []
    },
    {
      "cell_type": "code",
      "source": [
        "# Define the CNN model\n",
        "model = models.Sequential([\n",
        "    layers.Conv2D(32, (3, 3), activation='relu', input_shape=(32, 32, 3)),\n",
        "    layers.MaxPooling2D((2, 2)),\n",
        "    layers.Conv2D(64, (3, 3), activation='relu'),\n",
        "    layers.MaxPooling2D((2, 2)),\n",
        "    layers.Conv2D(64, (3, 3), activation='relu'),\n",
        "    layers.Flatten(),\n",
        "    layers.Dense(64, activation='relu'),\n",
        "    layers.Dense(10)\n",
        "])\n"
      ],
      "metadata": {
        "id": "ngpRKX0a-8Bg"
      },
      "execution_count": null,
      "outputs": []
    },
    {
      "cell_type": "code",
      "source": [
        "\n",
        "# Compile the model\n",
        "model.compile(optimizer='adam',\n",
        "              loss=tf.keras.losses.SparseCategoricalCrossentropy(from_logits=True),\n",
        "              metrics=['accuracy'])"
      ],
      "metadata": {
        "id": "J94ns4qn_Dnl"
      },
      "execution_count": null,
      "outputs": []
    },
    {
      "cell_type": "code",
      "source": [
        "# Train the model\n",
        "history = model.fit(train_images, train_labels, epochs=10,\n",
        "                    validation_data=(test_images,test_labels))"
      ],
      "metadata": {
        "colab": {
          "base_uri": "https://localhost:8080/"
        },
        "id": "CsjctDtb_LNU",
        "outputId": "efe1ddf4-720f-4d6f-ddc4-188fddb75cda"
      },
      "execution_count": null,
      "outputs": [
        {
          "output_type": "stream",
          "name": "stdout",
          "text": [
            "Epoch 1/10\n",
            "1563/1563 [==============================] - 69s 43ms/step - loss: 1.5306 - accuracy: 0.4401 - val_loss: 1.2530 - val_accuracy: 0.5574\n",
            "Epoch 2/10\n",
            "1563/1563 [==============================] - 68s 43ms/step - loss: 1.1696 - accuracy: 0.5856 - val_loss: 1.1286 - val_accuracy: 0.5995\n",
            "Epoch 3/10\n",
            "1563/1563 [==============================] - 66s 42ms/step - loss: 1.0235 - accuracy: 0.6409 - val_loss: 1.0358 - val_accuracy: 0.6399\n",
            "Epoch 4/10\n",
            "1563/1563 [==============================] - 68s 43ms/step - loss: 0.9300 - accuracy: 0.6767 - val_loss: 1.0393 - val_accuracy: 0.6420\n",
            "Epoch 5/10\n",
            "1563/1563 [==============================] - 79s 51ms/step - loss: 0.8542 - accuracy: 0.7030 - val_loss: 0.9261 - val_accuracy: 0.6846\n",
            "Epoch 6/10\n",
            "1563/1563 [==============================] - 69s 44ms/step - loss: 0.7943 - accuracy: 0.7237 - val_loss: 0.8720 - val_accuracy: 0.7011\n",
            "Epoch 7/10\n",
            "1563/1563 [==============================] - 70s 44ms/step - loss: 0.7420 - accuracy: 0.7411 - val_loss: 0.9085 - val_accuracy: 0.6959\n",
            "Epoch 8/10\n",
            "1563/1563 [==============================] - 67s 43ms/step - loss: 0.6961 - accuracy: 0.7584 - val_loss: 0.9121 - val_accuracy: 0.6875\n",
            "Epoch 9/10\n",
            "1563/1563 [==============================] - 67s 43ms/step - loss: 0.6609 - accuracy: 0.7702 - val_loss: 0.8522 - val_accuracy: 0.7155\n",
            "Epoch 10/10\n",
            "1563/1563 [==============================] - 66s 42ms/step - loss: 0.6243 - accuracy: 0.7803 - val_loss: 0.9000 - val_accuracy: 0.7051\n"
          ]
        }
      ]
    },
    {
      "cell_type": "code",
      "source": [
        "test_loss, test_acc = model.evaluate(test_images, test_labels, verbose=2)\n",
        "print('\\nTest accuracy:', test_acc)"
      ],
      "metadata": {
        "colab": {
          "base_uri": "https://localhost:8080/"
        },
        "id": "g6Zk5DANAAgp",
        "outputId": "9270fe5c-4c66-4d9f-a4ae-23e140d3910e"
      },
      "execution_count": null,
      "outputs": [
        {
          "output_type": "stream",
          "name": "stdout",
          "text": [
            "313/313 - 4s - loss: 0.9000 - accuracy: 0.7051 - 4s/epoch - 11ms/step\n",
            "\n",
            "Test accuracy: 0.7050999999046326\n"
          ]
        }
      ]
    },
    {
      "cell_type": "code",
      "source": [
        "plt.plot(history.history['accuracy'], label='accuracy')\n",
        "plt.plot(history.history['val_accuracy'], label = 'val_accuracy')\n",
        "plt.xlabel('Epoch')\n",
        "plt.ylabel('Accuracy')\n",
        "plt.ylim([0, 1])\n",
        "plt.legend(loc='lower right')\n",
        "plt.show()"
      ],
      "metadata": {
        "colab": {
          "base_uri": "https://localhost:8080/",
          "height": 455
        },
        "id": "JhwSXZo2AZwT",
        "outputId": "f6eb20be-d801-4445-d732-96edccd722e5"
      },
      "execution_count": null,
      "outputs": [
        {
          "output_type": "display_data",
          "data": {
            "text/plain": [
              "<Figure size 640x480 with 1 Axes>"
            ],
            "image/png": "[encoded data removed]"
          },
          "metadata": {}
        }
      ]
    },
    {
      "cell_type": "code",
      "source": [
        "!apt-get update\n",
        "!pip install selenium==4.11\n",
        "!pip install webdriver-manager\n",
        "!apt-get update\n"
      ],
      "metadata": {
        "id": "ejk5Mih-DETw"
      },
      "execution_count": null,
      "outputs": []
    }
  ]
}